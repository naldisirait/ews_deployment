{
 "cells": [
  {
   "cell_type": "code",
   "execution_count": 8,
   "id": "da665a07-6696-42ad-835c-e02c67a67d97",
   "metadata": {},
   "outputs": [
    {
     "data": {
      "text/plain": [
       "'2022-02-11 12:00:00'"
      ]
     },
     "execution_count": 8,
     "metadata": {},
     "output_type": "execute_result"
    }
   ],
   "source": [
    "import os\n",
    "from datetime import datetime, timedelta\n",
    "\n",
    "current_time = datetime(2022, 2, 11, 12, 0)\n",
    "current_time = current_time.strftime('%Y-%m-%d %H:%M:%S')\n",
    "current_time"
   ]
  },
  {
   "cell_type": "code",
   "execution_count": 9,
   "id": "eb794a10-7c60-4c36-bb86-5b508287092a",
   "metadata": {},
   "outputs": [
    {
     "data": {
      "text/plain": [
       "datetime.datetime(2022, 2, 11, 12, 0)"
      ]
     },
     "execution_count": 9,
     "metadata": {},
     "output_type": "execute_result"
    }
   ],
   "source": [
    "current_time = datetime(2022, 2, 11, 12, 0)\n",
    "current_time"
   ]
  },
  {
   "cell_type": "code",
   "execution_count": null,
   "id": "9203c373-be99-4b4d-9160-abe2b0b5298a",
   "metadata": {},
   "outputs": [],
   "source": [
    "def solution(A):\n",
    "    A = set(A)\n",
    "    for i in range(1,len(A)+1):\n",
    "        if i not in A:\n",
    "            return i"
   ]
  }
 ],
 "metadata": {
  "kernelspec": {
   "display_name": "Python 3 (ipykernel)",
   "language": "python",
   "name": "python3"
  },
  "language_info": {
   "codemirror_mode": {
    "name": "ipython",
    "version": 3
   },
   "file_extension": ".py",
   "mimetype": "text/x-python",
   "name": "python",
   "nbconvert_exporter": "python",
   "pygments_lexer": "ipython3",
   "version": "3.12.4"
  }
 },
 "nbformat": 4,
 "nbformat_minor": 5
}
